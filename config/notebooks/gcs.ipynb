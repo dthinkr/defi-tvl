{
 "cells": [
  {
   "cell_type": "code",
   "execution_count": 2,
   "metadata": {},
   "outputs": [],
   "source": [
    "import os\n",
    "from google.cloud import bigquery\n",
    "\n",
    "key_path = \"/workspaces/defi-tvl/private-key.json\"\n",
    "client = bigquery.Client.from_service_account_json(key_path)\n",
    "os.environ[\"GOOGLE_APPLICATION_CREDENTIALS\"] = key_path"
   ]
  },
  {
   "cell_type": "code",
   "execution_count": 6,
   "metadata": {},
   "outputs": [
    {
     "name": "stdout",
     "output_type": "stream",
     "text": [
      "address: STRING\n",
      "assetToken: STRING\n",
      "audit_links: STRING\n",
      "audit_note: INTEGER\n",
      "audits: STRING\n",
      "category: STRING\n",
      "chain: STRING\n",
      "chainTvls: STRING\n",
      "chains: STRING\n",
      "cmcId: STRING\n",
      "currentChainTvls: STRING\n",
      "deadUrl: STRING\n",
      "description: STRING\n",
      "forkedFrom: STRING\n",
      "gecko_id: STRING\n",
      "github: STRING\n",
      "governanceID: STRING\n",
      "hallmarks: STRING\n",
      "id: STRING\n",
      "language: INTEGER\n",
      "listedAt: STRING\n",
      "logo: STRING\n",
      "mcap: STRING\n",
      "methodology: STRING\n",
      "metrics: STRING\n",
      "misrepresentedTokens: STRING\n",
      "module: STRING\n",
      "name: STRING\n",
      "openSource: STRING\n",
      "oracles: STRING\n",
      "oraclesByChain: INTEGER\n",
      "otherProtocols: STRING\n",
      "parentProtocol: STRING\n",
      "raises: STRING\n",
      "referralUrl: STRING\n",
      "rugged: STRING\n",
      "stablecoins: STRING\n",
      "symbol: STRING\n",
      "tokens: STRING\n",
      "tokensInUsd: STRING\n",
      "treasury: STRING\n",
      "tvl: STRING\n",
      "twitter: STRING\n",
      "url: STRING\n",
      "wrongLiquidity: INTEGER\n",
      "group: STRING\n",
      "type: STRING\n"
     ]
    }
   ],
   "source": [
    "from google.cloud import bigquery\n",
    "\n",
    "client = bigquery.Client()\n",
    "dataset_ref = client.dataset(\"tvl_all\", project=\"platinum-analog-402701\")\n",
    "table_ref = dataset_ref.table(\"mini\")\n",
    "table = client.get_table(table_ref)\n",
    "\n",
    "# Print the schema\n",
    "for schema_field in table.schema:\n",
    "    print(f\"{schema_field.name}: {schema_field.field_type}\")"
   ]
  }
 ],
 "metadata": {
  "kernelspec": {
   "display_name": "Python 3",
   "language": "python",
   "name": "python3"
  },
  "language_info": {
   "codemirror_mode": {
    "name": "ipython",
    "version": 3
   },
   "file_extension": ".py",
   "mimetype": "text/x-python",
   "name": "python",
   "nbconvert_exporter": "python",
   "pygments_lexer": "ipython3",
   "version": "3.10.8"
  }
 },
 "nbformat": 4,
 "nbformat_minor": 2
}
